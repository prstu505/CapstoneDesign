{
 "cells": [
  {
   "cell_type": "code",
   "execution_count": null,
   "metadata": {},
   "outputs": [],
   "source": [
    "import os \n",
    "import json\n",
    "from kiwipiepy import Kiwi\n",
    "\n",
    "KIWI = Kiwi(num_workers=2, load_default_dict=True, model_type='knlm')\n",
    "SRC_PATH = ['./data/4_modern_essay', './data/4_modern_novel', './data/4_modern_poem']\n",
    "DST_PATH = ['./data/5_modern_essay', './data/5_modern_novel', './data/5_modern_poem']\n",
    "\n",
    "for i in range(0, len(SRC_PATH), 1) :\n",
    "    src_path = SRC_PATH[i]\n",
    "    dst_path = DST_PATH[i]\n",
    "    file_list = os.listdir(src_path)\n",
    "    for j in range(0, len(file_list), 1) :\n",
    "        file_name = file_list[j]\n",
    "\n",
    "        try :\n",
    "            print(str(j) + '\\t' + file_name)\n",
    "\n",
    "            book = None\n",
    "            with open(src_path+'/'+file_name, 'r', encoding='utf-8') as file :\n",
    "                book = json.load(file)\n",
    "                book['sentences'] = []\n",
    "                \n",
    "                sentences = KIWI.split_into_sents(book['content'])\n",
    "                for sentence in sentences : \n",
    "                    book['sentences'].append(sentence[0])\n",
    "\n",
    "            with open(dst_path+'/'+file_name, 'w', encoding='utf-8') as file :\n",
    "                json.dump(book, file, indent='\\t', ensure_ascii=False)\n",
    "        except :\n",
    "            print('>>> error <<<\\t' + file_name)\n"
   ]
  }
 ],
 "metadata": {
  "kernelspec": {
   "display_name": "Python 3.12.2 64-bit",
   "language": "python",
   "name": "python3"
  },
  "language_info": {
   "codemirror_mode": {
    "name": "ipython",
    "version": 3
   },
   "file_extension": ".py",
   "mimetype": "text/x-python",
   "name": "python",
   "nbconvert_exporter": "python",
   "pygments_lexer": "ipython3",
   "version": "3.12.2"
  },
  "orig_nbformat": 4,
  "vscode": {
   "interpreter": {
    "hash": "93bbe001a7e75fcb6fd25285e62c9ca5fb5f81e1bceb4c82912b381d262ce5ee"
   }
  }
 },
 "nbformat": 4,
 "nbformat_minor": 2
}
