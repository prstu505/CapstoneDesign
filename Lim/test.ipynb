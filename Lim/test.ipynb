{
 "cells": [
  {
   "cell_type": "code",
   "execution_count": 10,
   "metadata": {},
   "outputs": [
    {
     "name": "stderr",
     "output_type": "stream",
     "text": [
      "Some weights of ElectraForMaskedLM were not initialized from the model checkpoint at beomi/KcELECTRA-base-v2022 and are newly initialized: ['generator_lm_head.bias', 'generator_predictions.LayerNorm.bias', 'generator_predictions.LayerNorm.weight', 'generator_predictions.dense.bias', 'generator_predictions.dense.weight']\n",
      "You should probably TRAIN this model on a down-stream task to be able to use it for predictions and inference.\n"
     ]
    }
   ],
   "source": [
    "from transformers import AutoTokenizer, AutoModelWithLMHead, pipeline\n",
    "import json\n",
    "\n",
    "tokenizer = AutoTokenizer.from_pretrained(\"beomi/KcELECTRA-base-v2022\")\n",
    "model = AutoModelWithLMHead.from_pretrained(\"beomi/KcELECTRA-base-v2022\")\n",
    "\n",
    "\n",
    "pipe = pipeline(\n",
    "    \"fill-mask\",\n",
    "    model=model,\n",
    "    tokenizer=tokenizer\n",
    ")\n",
    "\n",
    "data = []\n",
    "for i in range(1, 3, 1) :\n",
    "    file = open('./data/pattern' + str(i) + '.json', 'r', encoding='utf-8') \n",
    "    data.extend(json.load(file))\n",
    "    file.close()\n",
    "\n",
    "result = []\n",
    "for row in data : \n",
    "    sentence = row[0]\n",
    "    start = int(row[1][0]['start'])\n",
    "    end = int(row[1][0]['end'])\n",
    "\n",
    "    for i in range(len(row[1])-1, -1, -1) :\n",
    "        sentence = sentence[:row[1][i]['start']] + '[MASK]' + sentence[row[1][i]['end']:]\n",
    "\n",
    "    try : \n",
    "        result.append({\n",
    "            'sentence': row[0],\n",
    "            'result': pipe(sentence, top_k=5)\n",
    "        })\n",
    "    except :\n",
    "        print('[Error]: ' + sentence)\n",
    "\n",
    "\n",
    "file = open('./data/beomi_KcELECTRA-base-v2022.json', 'w', encoding='utf-8')\n",
    "json.dump(result, file, indent='\\t', ensure_ascii=False)\n",
    "file.close()"
   ]
  },
  {
   "cell_type": "code",
   "execution_count": null,
   "metadata": {},
   "outputs": [],
   "source": []
  },
  {
   "cell_type": "code",
   "execution_count": null,
   "metadata": {},
   "outputs": [],
   "source": []
  },
  {
   "cell_type": "code",
   "execution_count": null,
   "metadata": {},
   "outputs": [],
   "source": []
  },
  {
   "cell_type": "code",
   "execution_count": 2,
   "metadata": {},
   "outputs": [],
   "source": [
    "import time\n",
    "from selenium import webdriver\n",
    "from selenium.webdriver.chrome.options import Options\n",
    "from selenium.webdriver.common.by import By"
   ]
  },
  {
   "cell_type": "code",
   "execution_count": null,
   "metadata": {},
   "outputs": [],
   "source": []
  },
  {
   "cell_type": "code",
   "execution_count": null,
   "metadata": {},
   "outputs": [],
   "source": []
  },
  {
   "cell_type": "code",
   "execution_count": null,
   "metadata": {},
   "outputs": [],
   "source": []
  },
  {
   "cell_type": "code",
   "execution_count": null,
   "metadata": {},
   "outputs": [],
   "source": []
  },
  {
   "cell_type": "code",
   "execution_count": null,
   "metadata": {},
   "outputs": [],
   "source": []
  },
  {
   "cell_type": "code",
   "execution_count": null,
   "metadata": {},
   "outputs": [],
   "source": []
  }
 ],
 "metadata": {
  "kernelspec": {
   "display_name": "Python 3.12.2 ('venv_CapstoneDesign': venv)",
   "language": "python",
   "name": "python3"
  },
  "language_info": {
   "codemirror_mode": {
    "name": "ipython",
    "version": 3
   },
   "file_extension": ".py",
   "mimetype": "text/x-python",
   "name": "python",
   "nbconvert_exporter": "python",
   "pygments_lexer": "ipython3",
   "version": "3.12.3"
  },
  "orig_nbformat": 4,
  "vscode": {
   "interpreter": {
    "hash": "1683d3e583d7b4c8b469035f76ed25350dd80eca2ca7473dd8c16afae00bba0c"
   }
  }
 },
 "nbformat": 4,
 "nbformat_minor": 2
}
