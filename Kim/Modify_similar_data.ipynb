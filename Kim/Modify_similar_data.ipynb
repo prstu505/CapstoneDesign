{
 "cells": [
  {
   "cell_type": "code",
   "execution_count": 2,
   "metadata": {},
   "outputs": [],
   "source": [
    "from transformers import AdamW,PreTrainedTokenizerFast\n",
    "from torch.utils.data import Dataset, DataLoader\n",
    "import torch\n",
    "import json\n",
    "import numpy as np\n",
    "from tqdm import tqdm\n",
    "import pandas as pd\n",
    "import re"
   ]
  },
  {
   "cell_type": "code",
   "execution_count": 3,
   "metadata": {},
   "outputs": [
    {
     "name": "stdout",
     "output_type": "stream",
     "text": [
      "13279\n"
     ]
    }
   ],
   "source": [
    "with open(\"./Similar_data.json\", \"r\" , encoding=\"utf-8\") as f:\n",
    "    data = json.load(f)\n",
    "\n",
    "print(len(data[\"data\"]))"
   ]
  },
  {
   "cell_type": "code",
   "execution_count": 4,
   "metadata": {},
   "outputs": [
    {
     "name": "stdout",
     "output_type": "stream",
     "text": [
      "담쟁이란 여름 한철 벽을 온통 둘러싸고 지붕과 연돌의 붉은 빛난 남기고 집 안을 통째로 초록의 세상으로 변해 줄 때가 아름다운 것이지, 잎을 다 떨어뜨리고 앙상하게 드러난 벽에 메마른 줄기를 깨알 같이 둘러칠 때쯤에는 벌써 다시 지릅떠볼 값조차 없는 것이다.\n"
     ]
    }
   ],
   "source": [
    "print(data[\"data\"][0][\"para\"][0][\"label\"][1][\"sequence\"])"
   ]
  },
  {
   "cell_type": "code",
   "execution_count": 5,
   "metadata": {},
   "outputs": [
    {
     "name": "stdout",
     "output_type": "stream",
     "text": [
      "count: 2849\n",
      "example1:\n",
      "context: 담쟁이란 여름 한철 벽을 온통 둘러싸고 지붕과 연돌의 붉은 빛난 남기고 집 안을 통째로 초록의 세상으로 변해 줄 때가 아름다운 것이지, 잎을 다 떨어뜨리고 앙상하게 드러난 벽에 메마른 줄기를 그물같이 둘러칠 때쯤에는 벌써 다시 지릅떠볼 값조차 없는 것이다.\n",
      "label 담쟁이란 여름 한철 벽을 온통 둘러싸고 지붕과 연돌의 붉은 빛난 남기고 집 안을 통째로 초록의 세상으로 변해 줄 때가 아름다운 것이지, 잎을 다 떨어뜨리고 앙상하게 드러난 벽에 메마른 줄기를 산더미 같이 둘러칠 때쯤에는 벌써 다시 지릅떠볼 값조차 없는 것이다.\n",
      "token_str: 산더미\n",
      "example2:\n",
      "context: 담쟁이란 여름 한철 벽을 온통 둘러싸고 지붕과 연돌의 붉은 빛난 남기고 집 안을 통째로 초록의 세상으로 변해 줄 때가 아름다운 것이지, 잎을 다 떨어뜨리고 앙상하게 드러난 벽에 메마른 줄기를 그물같이 둘러칠 때쯤에는 벌써 다시 지릅떠볼 값조차 없는 것이다.\n",
      "label 담쟁이란 여름 한철 벽을 온통 둘러싸고 지붕과 연돌의 붉은 빛난 남기고 집 안을 통째로 초록의 세상으로 변해 줄 때가 아름다운 것이지, 잎을 다 떨어뜨리고 앙상하게 드러난 벽에 메마른 줄기를 깨알 같이 둘러칠 때쯤에는 벌써 다시 지릅떠볼 값조차 없는 것이다.\n",
      "token_str: 깨알\n",
      "example3:\n",
      "context: 담쟁이란 여름 한철 벽을 온통 둘러싸고 지붕과 연돌의 붉은 빛난 남기고 집 안을 통째로 초록의 세상으로 변해 줄 때가 아름다운 것이지, 잎을 다 떨어뜨리고 앙상하게 드러난 벽에 메마른 줄기를 그물같이 둘러칠 때쯤에는 벌써 다시 지릅떠볼 값조차 없는 것이다.\n",
      "label 담쟁이란 여름 한철 벽을 온통 둘러싸고 지붕과 연돌의 붉은 빛난 남기고 집 안을 통째로 초록의 세상으로 변해 줄 때가 아름다운 것이지, 잎을 다 떨어뜨리고 앙상하게 드러난 벽에 메마른 줄기를 다 같이 둘러칠 때쯤에는 벌써 다시 지릅떠볼 값조차 없는 것이다.\n",
      "token_str: 다\n",
      "example4:\n",
      "context: 담쟁이란 여름 한철 벽을 온통 둘러싸고 지붕과 연돌의 붉은 빛난 남기고 집 안을 통째로 초록의 세상으로 변해 줄 때가 아름다운 것이지, 잎을 다 떨어뜨리고 앙상하게 드러난 벽에 메마른 줄기를 그물같이 둘러칠 때쯤에는 벌써 다시 지릅떠볼 값조차 없는 것이다.\n",
      "label 담쟁이란 여름 한철 벽을 온통 둘러싸고 지붕과 연돌의 붉은 빛난 남기고 집 안을 통째로 초록의 세상으로 변해 줄 때가 아름다운 것이지, 잎을 다 떨어뜨리고 앙상하게 드러난 벽에 메마른 줄기를 거미줄 같이 둘러칠 때쯤에는 벌써 다시 지릅떠볼 값조차 없는 것이다.\n",
      "token_str: 거미줄\n",
      "example5:\n",
      "context: 담쟁이란 여름 한철 벽을 온통 둘러싸고 지붕과 연돌의 붉은 빛난 남기고 집 안을 통째로 초록의 세상으로 변해 줄 때가 아름다운 것이지, 잎을 다 떨어뜨리고 앙상하게 드러난 벽에 메마른 줄기를 그물같이 둘러칠 때쯤에는 벌써 다시 지릅떠볼 값조차 없는 것이다.\n",
      "label 담쟁이란 여름 한철 벽을 온통 둘러싸고 지붕과 연돌의 붉은 빛난 남기고 집 안을 통째로 초록의 세상으로 변해 줄 때가 아름다운 것이지, 잎을 다 떨어뜨리고 앙상하게 드러난 벽에 메마른 줄기를 하나 같이 둘러칠 때쯤에는 벌써 다시 지릅떠볼 값조차 없는 것이다.\n",
      "token_str: 하나\n",
      "example6:\n",
      "context: 가령 벚나무 잎같이 신선하게 단풍이 드는 것도 아니요, 처음부터 칙칙한 색으로 물들어 재치 없는 그 넓은 잎이 지름길 위에 떨어져 비라도 맞고 나면 지저분하게 흙 속에 묻히는 까닭에 아무래도 날아 떨어지는 쪽쪽 그 뒷시중을 해야 된다.\n",
      "label  가령 벚나무와 같이 신선하게 단풍이 드는 것도 아니요, 처음부터 칙칙한 색으로 물들어 재치 없는 그 넓은 ##와 이 지름길 위에 떨어져 비라도 맞고 나면 지저분하게 흙 속에 묻히는 까닭에 아무래도 날아 떨어지는 쪽쪽 그 뒷시중을 해야 된다. \n",
      "token_str: ##와\n",
      "example7:\n",
      "context: 가령 벚나무 잎같이 신선하게 단풍이 드는 것도 아니요, 처음부터 칙칙한 색으로 물들어 재치 없는 그 넓은 잎이 지름길 위에 떨어져 비라도 맞고 나면 지저분하게 흙 속에 묻히는 까닭에 아무래도 날아 떨어지는 쪽쪽 그 뒷시중을 해야 된다.\n",
      "label  가령 벚나무 열매 같이 신선하게 단풍이 드는 것도 아니요, 처음부터 칙칙한 색으로 물들어 재치 없는 그 넓은 열매 이 지름길 위에 떨어져 비라도 맞고 나면 지저분하게 흙 속에 묻히는 까닭에 아무래도 날아 떨어지는 쪽쪽 그 뒷시중을 해야 된다. \n",
      "token_str: 열매\n",
      "example8:\n",
      "context: 가령 벚나무 잎같이 신선하게 단풍이 드는 것도 아니요, 처음부터 칙칙한 색으로 물들어 재치 없는 그 넓은 잎이 지름길 위에 떨어져 비라도 맞고 나면 지저분하게 흙 속에 묻히는 까닭에 아무래도 날아 떨어지는 쪽쪽 그 뒷시중을 해야 된다.\n",
      "label  가령 벚나무도 같이 신선하게 단풍이 드는 것도 아니요, 처음부터 칙칙한 색으로 물들어 재치 없는 그 넓은 ##도 이 지름길 위에 떨어져 비라도 맞고 나면 지저분하게 흙 속에 묻히는 까닭에 아무래도 날아 떨어지는 쪽쪽 그 뒷시중을 해야 된다. \n",
      "token_str: ##도\n",
      "example9:\n",
      "context: 가령 벚나무 잎같이 신선하게 단풍이 드는 것도 아니요, 처음부터 칙칙한 색으로 물들어 재치 없는 그 넓은 잎이 지름길 위에 떨어져 비라도 맞고 나면 지저분하게 흙 속에 묻히는 까닭에 아무래도 날아 떨어지는 쪽쪽 그 뒷시중을 해야 된다.\n",
      "label  가령 벚나무나무 같이 신선하게 단풍이 드는 것도 아니요, 처음부터 칙칙한 색으로 물들어 재치 없는 그 넓은 ##나무 이 지름길 위에 떨어져 비라도 맞고 나면 지저분하게 흙 속에 묻히는 까닭에 아무래도 날아 떨어지는 쪽쪽 그 뒷시중을 해야 된다. \n",
      "token_str: ##나무\n",
      "example10:\n",
      "context: 가령 벚나무 잎같이 신선하게 단풍이 드는 것도 아니요, 처음부터 칙칙한 색으로 물들어 재치 없는 그 넓은 잎이 지름길 위에 떨어져 비라도 맞고 나면 지저분하게 흙 속에 묻히는 까닭에 아무래도 날아 떨어지는 쪽쪽 그 뒷시중을 해야 된다.\n",
      "label  가령 벚나무 가지 같이 신선하게 단풍이 드는 것도 아니요, 처음부터 칙칙한 색으로 물들어 재치 없는 그 넓은 가지 이 지름길 위에 떨어져 비라도 맞고 나면 지저분하게 흙 속에 묻히는 까닭에 아무래도 날아 떨어지는 쪽쪽 그 뒷시중을 해야 된다. \n",
      "token_str: 가지\n",
      "example11:\n",
      "context: 가령 벚나무 잎같이 신선하게 단풍이 드는 것도 아니요, 처음부터 칙칙한 색으로 물들어 재치 없는 그 넓은 잎이 지름길 위에 떨어져 비라도 맞고 나면 지저분하게 흙 속에 묻히는 까닭에 아무래도 날아 떨어지는 쪽쪽 그 뒷시중을 해야 된다.\n",
      "label  가령 벚나무 땅 같이 신선하게 단풍이 드는 것도 아니요, 처음부터 칙칙한 색으로 물들어 재치 없는 그 넓은 땅 이 지름길 위에 떨어져 비라도 맞고 나면 지저분하게 흙 속에 묻히는 까닭에 아무래도 날아 떨어지는 쪽쪽 그 뒷시중을 해야 된다. \n",
      "token_str: 땅\n",
      "example12:\n",
      "context: 가령 벚나무 잎같이 신선하게 단풍이 드는 것도 아니요, 처음부터 칙칙한 색으로 물들어 재치 없는 그 넓은 잎이 지름길 위에 떨어져 비라도 맞고 나면 지저분하게 흙 속에 묻히는 까닭에 아무래도 날아 떨어지는 쪽쪽 그 뒷시중을 해야 된다.\n",
      "label  가령 벚나무 [UNK] 같이 신선하게 단풍이 드는 것도 아니요, 처음부터 칙칙한 색으로 물들어 재치 없는 그 넓은 [UNK] 이 지름길 위에 떨어져 비라도 맞고 나면 지저분하게 흙 속에 묻히는 까닭에 아무래도 날아 떨어지는 쪽쪽 그 뒷시중을 해야 된다. \n",
      "token_str: [UNK]\n",
      "example13:\n",
      "context: 가령 벚나무 잎같이 신선하게 단풍이 드는 것도 아니요, 처음부터 칙칙한 색으로 물들어 재치 없는 그 넓은 잎이 지름길 위에 떨어져 비라도 맞고 나면 지저분하게 흙 속에 묻히는 까닭에 아무래도 날아 떨어지는 쪽쪽 그 뒷시중을 해야 된다.\n",
      "label  가령 벚나무 흙 같이 신선하게 단풍이 드는 것도 아니요, 처음부터 칙칙한 색으로 물들어 재치 없는 그 넓은 흙 이 지름길 위에 떨어져 비라도 맞고 나면 지저분하게 흙 속에 묻히는 까닭에 아무래도 날아 떨어지는 쪽쪽 그 뒷시중을 해야 된다. \n",
      "token_str: 흙\n",
      "example14:\n",
      "context: 가령 벚나무 잎같이 신선하게 단풍이 드는 것도 아니요, 처음부터 칙칙한 색으로 물들어 재치 없는 그 넓은 잎이 지름길 위에 떨어져 비라도 맞고 나면 지저분하게 흙 속에 묻히는 까닭에 아무래도 날아 떨어지는 쪽쪽 그 뒷시중을 해야 된다.\n",
      "label  가령 벚나무 잔디밭 같이 신선하게 단풍이 드는 것도 아니요, 처음부터 칙칙한 색으로 물들어 재치 없는 그 넓은 잔디밭 이 지름길 위에 떨어져 비라도 맞고 나면 지저분하게 흙 속에 묻히는 까닭에 아무래도 날아 떨어지는 쪽쪽 그 뒷시중을 해야 된다. \n",
      "token_str: 잔디밭\n",
      "example15:\n",
      "context: 가령 벚나무 잎같이 신선하게 단풍이 드는 것도 아니요, 처음부터 칙칙한 색으로 물들어 재치 없는 그 넓은 잎이 지름길 위에 떨어져 비라도 맞고 나면 지저분하게 흙 속에 묻히는 까닭에 아무래도 날아 떨어지는 쪽쪽 그 뒷시중을 해야 된다.\n",
      "label  가령 벚나무 나무 같이 신선하게 단풍이 드는 것도 아니요, 처음부터 칙칙한 색으로 물들어 재치 없는 그 넓은 나무 이 지름길 위에 떨어져 비라도 맞고 나면 지저분하게 흙 속에 묻히는 까닭에 아무래도 날아 떨어지는 쪽쪽 그 뒷시중을 해야 된다. \n",
      "token_str: 나무\n",
      "example16:\n",
      "context: 낙엽 타는 냄새같이 좋은 것이 있을까.\n",
      "label 낙엽 타는 것 같이 좋은 것이 있을까.\n",
      "token_str: 것\n",
      "example17:\n",
      "context: 낙엽 타는 냄새같이 좋은 것이 있을까.\n",
      "label 낙엽 타는 소리 같이 좋은 것이 있을까.\n",
      "token_str: 소리\n",
      "example18:\n",
      "context: 낙엽 타는 냄새같이 좋은 것이 있을까.\n",
      "label 낙엽 타는 일 같이 좋은 것이 있을까.\n",
      "token_str: 일\n",
      "example19:\n",
      "context: 낙엽 타는 냄새같이 좋은 것이 있을까.\n",
      "label 낙엽 타는 기분 같이 좋은 것이 있을까.\n",
      "token_str: 기분\n",
      "example20:\n",
      "context: 낙엽 타는 냄새같이 좋은 것이 있을까.\n",
      "label 낙엽 타는 낙엽 같이 좋은 것이 있을까.\n",
      "token_str: 낙엽\n",
      "74490\n"
     ]
    }
   ],
   "source": [
    "def multiple_replace(text, replacements):\n",
    "    for old, new in replacements.items():\n",
    "        text = text.replace(old, new)\n",
    "    return text\n",
    "\n",
    "replacements = {\"[CLS]\": \"\", \"[SEP]\": \"\"}\n",
    "\n",
    "context_label_pairs = []\n",
    "count = 0\n",
    "for item in data[\"data\"]:\n",
    "    for para in item[\"para\"]:\n",
    "        context = para[\"context\"]\n",
    "        for sequence in para[\"label\"]:\n",
    "            if str(type(sequence)) ==\"<class 'list'>\":\n",
    "                count +=1\n",
    "                for sequence_list in sequence:\n",
    "                    label = sequence_list[\"sequence\"]\n",
    "                    token_str = sequence_list[\"token_str\"] \n",
    "                    label = label.replace(\"[MASK]\",token_str)\n",
    "                    label = multiple_replace(label,replacements)\n",
    "                    context_label_pairs.append((context, label, token_str))\n",
    "            else:\n",
    "                label = sequence[\"sequence\"]\n",
    "                token_str = sequence[\"token_str\"] \n",
    "                label =label.replace(\"[MASK]\",token_str)\n",
    "                label = multiple_replace(label,replacements)\n",
    "                context_label_pairs.append((context, label, token_str))\n",
    "\n",
    "\n",
    "print(\"count:\",count)\n",
    "for idx, (context,label, token_str) in enumerate(context_label_pairs[0:20],1):\n",
    "    print(f\"example{idx}:\")\n",
    "    print(\"context:\", context)\n",
    "    print(\"label\", label)\n",
    "    print(\"token_str:\", token_str)\n",
    "\n",
    "print(len(context_label_pairs))"
   ]
  },
  {
   "cell_type": "code",
   "execution_count": null,
   "metadata": {},
   "outputs": [],
   "source": []
  },
  {
   "cell_type": "code",
   "execution_count": 14,
   "metadata": {},
   "outputs": [],
   "source": [
    "Modify_Similar_data = {\"data\":[]}\n",
    "dict = {\"data\": [{\"para\": [{\"label\": [{}], \"context\": \"\"}]}]}\n",
    "\n",
    "labels = {\"label\":[]}\n",
    "previous_context = context_label_pairs[0][0]\n",
    "\n",
    "for i,item in enumerate(context_label_pairs):\n",
    "    para = {\"para\":[]}\n",
    "    sequence = {}\n",
    "\n",
    "    if previous_context != item[0] or i == len(context_label_pairs)-1:\n",
    "        labels[\"context\"] = previous_context\n",
    "        previous_context = item[0]\n",
    "        temp = labels\n",
    "        para[\"para\"].append(temp)\n",
    "        Modify_Similar_data[\"data\"].append(para)\n",
    "        labels = {\"label\":[]}\n",
    "\n",
    "    sequence[\"sequence\"] = item[1]\n",
    "    sequence[\"token_str\"] = item[2]\n",
    "    labels[\"label\"].append(sequence)\n",
    "\n",
    "  \n"
   ]
  },
  {
   "cell_type": "code",
   "execution_count": 16,
   "metadata": {},
   "outputs": [
    {
     "data": {
      "text/plain": [
       "11942"
      ]
     },
     "execution_count": 16,
     "metadata": {},
     "output_type": "execute_result"
    }
   ],
   "source": [
    "len(Modify_Similar_data[\"data\"])"
   ]
  },
  {
   "cell_type": "code",
   "execution_count": 17,
   "metadata": {},
   "outputs": [],
   "source": [
    "with open('./Similar_data_modify.json', 'w', encoding='utf-8') as file :\n",
    "    json.dump(Modify_Similar_data, file, indent='\\t', ensure_ascii=False)"
   ]
  },
  {
   "cell_type": "code",
   "execution_count": null,
   "metadata": {},
   "outputs": [],
   "source": []
  }
 ],
 "metadata": {
  "kernelspec": {
   "display_name": "Python 3",
   "language": "python",
   "name": "python3"
  },
  "language_info": {
   "codemirror_mode": {
    "name": "ipython",
    "version": 3
   },
   "file_extension": ".py",
   "mimetype": "text/x-python",
   "name": "python",
   "nbconvert_exporter": "python",
   "pygments_lexer": "ipython3",
   "version": "3.10.12"
  },
  "orig_nbformat": 4
 },
 "nbformat": 4,
 "nbformat_minor": 2
}
