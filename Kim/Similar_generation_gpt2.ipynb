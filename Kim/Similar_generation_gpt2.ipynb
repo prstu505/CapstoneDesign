{
 "cells": [
  {
   "cell_type": "code",
   "execution_count": 6,
   "metadata": {},
   "outputs": [],
   "source": [
    "from transformers import AutoTokenizer ,GPT2LMHeadModel, AdamW,GPT2TokenizerFast\n",
    "from torch.utils.data import Dataset, DataLoader\n",
    "import torch\n",
    "import json\n",
    "import numpy as np\n",
    "from tqdm import tqdm\n",
    "import pandas as pd\n",
    "import re\n",
    "from sklearn.model_selection import train_test_split\n",
    "import pandas as pd\n",
    "import numpy as np\n",
    "import json\n",
    "import re"
   ]
  },
  {
   "cell_type": "code",
   "execution_count": 2,
   "metadata": {},
   "outputs": [],
   "source": [
    "C_TKN = \"<unused3>\"#문맥토큰\n",
    "Q_TKN = \"<unused4>\" #질문토큰\n",
    "A_TKN = \"<unused5>\" #답변 토큰\n",
    "BOS = '<s>'#begin of sequence\n",
    "EOS = '</s>'#end of sequence\n",
    "MASK = '<unused0>'# mask token\n",
    "SENT = '<unused1>'#문장토큰\n",
    "PAD = '<pad>'\n",
    "\n",
    "tokenizer = AutoTokenizer.from_pretrained(\"skt/kogpt2-base-v2\", bos_token=BOS, eos_token=EOS, unk_token=\"<unk>\", pad_token=PAD, mask_token=MASK,)\n"
   ]
  },
  {
   "cell_type": "code",
   "execution_count": 3,
   "metadata": {},
   "outputs": [],
   "source": [
    "with open(\"./Similar_data_klue_large_KoELECTRA.json\",\"r\",encoding=\"utf-8\") as f:\n",
    "    data = json.load(f)"
   ]
  },
  {
   "cell_type": "code",
   "execution_count": 4,
   "metadata": {},
   "outputs": [
    {
     "name": "stdout",
     "output_type": "stream",
     "text": [
      "19709\n",
      "('쓸쓸스러운 붉은 감 닙이 죽어가는 생물처럼 여기저기 휘둘러서 헛날닐 제 말 없이 오는 가을바람이 따뜻한 나의 가슴을 근질이고 지내감에, 나도 모르는 쓸쓸한 비애가 나의 두 눈을 공연히 울고 싶게 하였다.', '쓸쓸스러운 붉은 감 닙이 죽어가는 것 처럼 여기저기 휘둘러서 헛날닐 제 말 없이 오는 가을바람이 따뜻한 나의 가슴을 근질이고 지내감에, 나도 모르는 쓸쓸한 비애가 나의 두 눈을 공연히 울고 싶게 하였다.', '것')\n",
      "('쓸쓸스러운 붉은 감 닙이 죽어가는 생물처럼 여기저기 휘둘러서 헛날닐 제 말 없이 오는 가을바람이 따뜻한 나의 가슴을 근질이고 지내감에, 나도 모르는 쓸쓸한 비애가 나의 두 눈을 공연히 울고 싶게 하였다.', '쓸쓸스러운 붉은 감 닙이 죽어가는 나무 처럼 여기저기 휘둘러서 헛날닐 제 말 없이 오는 가을바람이 따뜻한 나의 가슴을 근질이고 지내감에, 나도 모르는 쓸쓸한 비애가 나의 두 눈을 공연히 울고 싶게 하였다.', '나무')\n"
     ]
    }
   ],
   "source": [
    "Similar_raw = []\n",
    "\n",
    "for item in data[\"data\"]:\n",
    "    for para in item[\"para\"]:\n",
    "        context = para[\"context\"]\n",
    "        for labels in para[\"label\"]:\n",
    "            label = labels[\"sequence\"]\n",
    "            token_str = labels[\"token_str\"]\n",
    "            Similar_raw.append((context,label,token_str))\n",
    "\n",
    "print(len(Similar_raw))\n",
    "print(Similar_raw[0])\n",
    "print(Similar_raw[1])\n"
   ]
  },
  {
   "cell_type": "code",
   "execution_count": 7,
   "metadata": {},
   "outputs": [
    {
     "name": "stdout",
     "output_type": "stream",
     "text": [
      "15767 3942\n"
     ]
    }
   ],
   "source": [
    "train_data_raw , test_data_raw = train_test_split(Similar_raw,test_size = 0.2)\n",
    "print(len(train_data_raw),len(test_data_raw))"
   ]
  },
  {
   "cell_type": "code",
   "execution_count": 8,
   "metadata": {},
   "outputs": [
    {
     "name": "stdout",
     "output_type": "stream",
     "text": [
      "15767\n"
     ]
    }
   ],
   "source": [
    "train_data = pd.DataFrame(train_data_raw)\n",
    "test_data = pd.DataFrame(test_data_raw)\n",
    "print(len(train_data))\n",
    "train_data.rename(columns={0: 'context',1:'label',2:'token'}, inplace=True)\n",
    "test_data.rename(columns={0: 'context',1:'label',2:'token'}, inplace=True)\n"
   ]
  },
  {
   "cell_type": "code",
   "execution_count": 9,
   "metadata": {},
   "outputs": [],
   "source": [
    "#데이터 처리 클래스\n",
    "class Similar_Dataset(Dataset):\n",
    "    def __init__(self, chats, max_len=512):  # 데이터셋의 전처리를 해주는 부분\n",
    "        self._data = chats\n",
    "        self.max_len = max_len\n",
    "        self.bos= BOS\n",
    "        self.eos = EOS\n",
    "        self.pad = PAD\n",
    "        self.tokenizer = tokenizer\n",
    "    def __len__(self):  \n",
    "        return len(self._data)\n",
    "\n",
    "    def __getitem__(self, idx):  # 로드한데이터를 차례차례 DataLoader로 넘김\n",
    "        turn = self._data.iloc[idx]\n",
    "        l = turn[\"label\"]  # label을 가져온다.\n",
    "        c = turn[\"context\"]  # 문맥을 가져온다.\n",
    "        \n",
    "        c_toked = self.tokenizer.tokenize(self.bos + c + self.eos)\n",
    "        c_len = len(c_toked)\n",
    "        \n",
    "        l_toked = self.tokenizer.tokenize(self.bos + l + self.eos)\n",
    "        l_len = len(l_toked)\n",
    "\n",
    "        #최대길이 초과시 처리\n",
    "        if c_len> self.max_len:\n",
    "            c_len = self.max_len\n",
    "            c_toked = c_toked[:c_len]\n",
    "       \n",
    "        if l_len> self.max_len:\n",
    "            l_len = self.max_len\n",
    "            l_toked = l_toked[:l_len]\n",
    "\n",
    "        labels_ids = self.tokenizer.convert_tokens_to_ids(l_toked)        \n",
    "       \n",
    "        while len(labels_ids) < self.max_len: # 최대길이만큼 PADDING\n",
    "            labels_ids += [self.tokenizer.pad_token_id]\n",
    "\n",
    "        token_ids = self.tokenizer.convert_tokens_to_ids(c_toked)\n",
    "      \n",
    "        while len(token_ids) < self.max_len: # 최대길이만큼 PADDING\n",
    "            token_ids += [self.tokenizer.pad_token_id]\n",
    "\n",
    "        #질문+답변, 마스크, 답변\n",
    "        return (token_ids, labels_ids)"
   ]
  },
  {
   "cell_type": "code",
   "execution_count": 10,
   "metadata": {},
   "outputs": [],
   "source": [
    "def collate_batch(batch):\n",
    "    data = [item[0] for item in batch]\n",
    "    label = [item[1] for item in batch]\n",
    "    return torch.LongTensor(data), torch.LongTensor(label)"
   ]
  },
  {
   "cell_type": "code",
   "execution_count": 11,
   "metadata": {},
   "outputs": [
    {
     "data": {
      "text/plain": [
       "3942"
      ]
     },
     "execution_count": 11,
     "metadata": {},
     "output_type": "execute_result"
    }
   ],
   "source": [
    "train_set = Similar_Dataset(train_data, max_len=512)\n",
    "loader = DataLoader(train_set, batch_size=4,  num_workers=0, shuffle=True, collate_fn=collate_batch,)\n",
    "len(loader)"
   ]
  },
  {
   "cell_type": "code",
   "execution_count": 12,
   "metadata": {},
   "outputs": [
    {
     "name": "stdout",
     "output_type": "stream",
     "text": [
      "cuda\n"
     ]
    }
   ],
   "source": [
    "device = torch.device(\"cuda\" if torch.cuda.is_available() else \"cpu\")\n",
    "print(device)"
   ]
  },
  {
   "cell_type": "code",
   "execution_count": 13,
   "metadata": {},
   "outputs": [
    {
     "data": {
      "application/vnd.jupyter.widget-view+json": {
       "model_id": "9f38325c4a714e82af954d83e3c9870b",
       "version_major": 2,
       "version_minor": 0
      },
      "text/plain": [
       "Downloading pytorch_model.bin:   0%|          | 0.00/513M [00:00<?, ?B/s]"
      ]
     },
     "metadata": {},
     "output_type": "display_data"
    },
    {
     "data": {
      "text/plain": [
       "GPT2LMHeadModel(\n",
       "  (transformer): GPT2Model(\n",
       "    (wte): Embedding(51200, 768)\n",
       "    (wpe): Embedding(1024, 768)\n",
       "    (drop): Dropout(p=0.1, inplace=False)\n",
       "    (h): ModuleList(\n",
       "      (0-11): 12 x GPT2Block(\n",
       "        (ln_1): LayerNorm((768,), eps=1e-05, elementwise_affine=True)\n",
       "        (attn): GPT2Attention(\n",
       "          (c_attn): Conv1D()\n",
       "          (c_proj): Conv1D()\n",
       "          (attn_dropout): Dropout(p=0.1, inplace=False)\n",
       "          (resid_dropout): Dropout(p=0.1, inplace=False)\n",
       "        )\n",
       "        (ln_2): LayerNorm((768,), eps=1e-05, elementwise_affine=True)\n",
       "        (mlp): GPT2MLP(\n",
       "          (c_fc): Conv1D()\n",
       "          (c_proj): Conv1D()\n",
       "          (act): NewGELUActivation()\n",
       "          (dropout): Dropout(p=0.1, inplace=False)\n",
       "        )\n",
       "      )\n",
       "    )\n",
       "    (ln_f): LayerNorm((768,), eps=1e-05, elementwise_affine=True)\n",
       "  )\n",
       "  (lm_head): Linear(in_features=768, out_features=51200, bias=False)\n",
       ")"
      ]
     },
     "execution_count": 13,
     "metadata": {},
     "output_type": "execute_result"
    }
   ],
   "source": [
    "model = GPT2LMHeadModel.from_pretrained('skt/kogpt2-base-v2')\n",
    "model.to(device)\n",
    "model.train()"
   ]
  },
  {
   "cell_type": "code",
   "execution_count": 16,
   "metadata": {},
   "outputs": [
    {
     "name": "stderr",
     "output_type": "stream",
     "text": [
      "Epoch 1:   0%|          | 0/3942 [00:00<?, ?it/s]"
     ]
    },
    {
     "name": "stderr",
     "output_type": "stream",
     "text": [
      "We strongly recommend passing in an `attention_mask` since your input_ids may be padded. See https://huggingface.co/docs/transformers/troubleshooting#incorrect-output-when-padding-tokens-arent-masked.\n",
      "                                                                                 \r"
     ]
    },
    {
     "name": "stdout",
     "output_type": "stream",
     "text": [
      "Epoch 1/10 - Loss: 0.3947\n"
     ]
    },
    {
     "name": "stderr",
     "output_type": "stream",
     "text": [
      "                                                                                 \r"
     ]
    },
    {
     "name": "stdout",
     "output_type": "stream",
     "text": [
      "Epoch 2/10 - Loss: 0.2298\n"
     ]
    },
    {
     "name": "stderr",
     "output_type": "stream",
     "text": [
      "                                                                                 \r"
     ]
    },
    {
     "name": "stdout",
     "output_type": "stream",
     "text": [
      "Epoch 3/10 - Loss: 0.1404\n"
     ]
    },
    {
     "name": "stderr",
     "output_type": "stream",
     "text": [
      "                                                                                 \r"
     ]
    },
    {
     "name": "stdout",
     "output_type": "stream",
     "text": [
      "Epoch 4/10 - Loss: 0.1042\n"
     ]
    },
    {
     "name": "stderr",
     "output_type": "stream",
     "text": [
      "                                                                                 \r"
     ]
    },
    {
     "name": "stdout",
     "output_type": "stream",
     "text": [
      "Epoch 5/10 - Loss: 0.0877\n"
     ]
    },
    {
     "name": "stderr",
     "output_type": "stream",
     "text": [
      "                                                                                 \r"
     ]
    },
    {
     "name": "stdout",
     "output_type": "stream",
     "text": [
      "Epoch 6/10 - Loss: 0.0769\n"
     ]
    },
    {
     "name": "stderr",
     "output_type": "stream",
     "text": [
      "                                                                                 \r"
     ]
    },
    {
     "name": "stdout",
     "output_type": "stream",
     "text": [
      "Epoch 7/10 - Loss: 0.0693\n"
     ]
    },
    {
     "name": "stderr",
     "output_type": "stream",
     "text": [
      "                                                                                 \r"
     ]
    },
    {
     "name": "stdout",
     "output_type": "stream",
     "text": [
      "Epoch 8/10 - Loss: 0.0631\n"
     ]
    },
    {
     "name": "stderr",
     "output_type": "stream",
     "text": [
      "                                                                                 \r"
     ]
    },
    {
     "name": "stdout",
     "output_type": "stream",
     "text": [
      "Epoch 9/10 - Loss: 0.0574\n"
     ]
    },
    {
     "name": "stderr",
     "output_type": "stream",
     "text": [
      "                                                                                  "
     ]
    },
    {
     "name": "stdout",
     "output_type": "stream",
     "text": [
      "Epoch 10/10 - Loss: 0.0523\n"
     ]
    },
    {
     "name": "stderr",
     "output_type": "stream",
     "text": [
      "\r"
     ]
    }
   ],
   "source": [
    "from transformers import get_linear_schedule_with_warmup\n",
    "epochs = 10\n",
    "optimizer = AdamW(model.parameters(), lr=5e-5)\n",
    "total_steps = len(loader) * epochs\n",
    "\n",
    "# 스케줄러 설정\n",
    "scheduler = get_linear_schedule_with_warmup(optimizer, \n",
    "                                            num_warmup_steps=0,\n",
    "                                            num_training_steps=total_steps)\n",
    "\n",
    "# 학습 과정\n",
    "for epoch in range(epochs):\n",
    "    model.train()\n",
    "    total_loss = 0\n",
    "    progress_bar = tqdm(loader, desc=\"Epoch {:1d}\".format(epoch+1), leave=False, disable=False)\n",
    "    for batch in progress_bar:\n",
    "        optimizer.zero_grad()\n",
    "        inputs, labels = tuple(t.to(torch.device(\"cuda\" if torch.cuda.is_available() else \"cpu\")) for t in batch)\n",
    "        \n",
    "        outputs = model(input_ids = inputs, labels=labels)\n",
    "        loss = outputs.loss\n",
    "        loss.backward()\n",
    "        optimizer.step()\n",
    "        scheduler.step()\n",
    "\n",
    "        total_loss += loss.item()\n",
    "        progress_bar.set_postfix({'training_loss': '{:.3f}'.format(loss.item() / len(batch))})\n",
    "        \n",
    "    print(\"Epoch {}/{} - Loss: {:.4f}\".format(epoch+1, epochs, total_loss / len(loader)))"
   ]
  },
  {
   "cell_type": "code",
   "execution_count": 17,
   "metadata": {},
   "outputs": [
    {
     "data": {
      "text/plain": [
       "('./Similar_gpt2_model1/tokenizer_config.json',\n",
       " './Similar_gpt2_model1/special_tokens_map.json',\n",
       " './Similar_gpt2_model1/vocab.json',\n",
       " './Similar_gpt2_model1/merges.txt',\n",
       " './Similar_gpt2_model1/added_tokens.json',\n",
       " './Similar_gpt2_model1/tokenizer.json')"
      ]
     },
     "execution_count": 17,
     "metadata": {},
     "output_type": "execute_result"
    }
   ],
   "source": [
    "model.save_pretrained(\"./Similar_gpt2_model1\")\n",
    "tokenizer.save_pretrained(\"./Similar_gpt2_model1\")"
   ]
  },
  {
   "cell_type": "code",
   "execution_count": 25,
   "metadata": {},
   "outputs": [
    {
     "name": "stderr",
     "output_type": "stream",
     "text": [
      "Special tokens have been added in the vocabulary, make sure the associated word embeddings are fine-tuned or trained.\n",
      "You passed along `num_labels=3` with an incompatible id to label map: {'0': 'NEGATIVE', '1': 'POSITIVE'}. The number of labels wil be overwritten to 2.\n"
     ]
    },
    {
     "name": "stdout",
     "output_type": "stream",
     "text": [
      "원본: 저 거울은 은화처럼 빛났다\n",
      "생성 1: \n",
      "생성 2: \n"
     ]
    }
   ],
   "source": [
    "from transformers import BartForConditionalGeneration\n",
    "def generate_sequence(context, model, tokenizer, device, num_sequences=2):\n",
    "    model.eval()  # 모델을 평가 모드로 설정\n",
    "\n",
    "    # 입력 문맥 토크나이징\n",
    "    input_ids = tokenizer.encode(BOS + context + EOS, return_tensors=\"pt\").to(device)\n",
    "\n",
    "    # 모델을 사용하여 출력 생성\n",
    "    output_sequences = model.generate(\n",
    "        input_ids=input_ids,\n",
    "        max_length=512,\n",
    "        temperature=0.7,\n",
    "        top_k=50,\n",
    "        top_p=0.9,\n",
    "        repetition_penalty=2.0,\n",
    "        do_sample=True,\n",
    "        num_return_sequences=num_sequences\n",
    "    )\n",
    "\n",
    "    generated_sequences = []\n",
    "    for generated_sequence in output_sequences:\n",
    "        # 생성된 시퀀스를 디코딩하여 텍스트로 변환\n",
    "        decoded_text = tokenizer.decode(generated_sequence, skip_special_tokens=True)\n",
    "        generated_sequences.append(decoded_text)\n",
    "    \n",
    "    return generated_sequences\n",
    "\n",
    "model_path = \"Similar_bart_model_05_29\"\n",
    "\n",
    "\n",
    "device = torch.device(\"cuda\" if torch.cuda.is_available() else \"cpu\")\n",
    "\n",
    "def multiple_replace(text, replacements):\n",
    "    for old, new in replacements.items():\n",
    "        text = text.replace(old, new)\n",
    "    return text\n",
    "\n",
    "replacements = { BOS: \"\", EOS: \"\", PAD: \"\"}\n",
    "\n",
    "tokenizer = AutoTokenizer.from_pretrained(model_path)\n",
    "model =BartForConditionalGeneration.from_pretrained(model_path).to(device)\n",
    "context = test_data[\"context\"][4]\n",
    "context = '저 거울은 은화처럼 빛났다'\n",
    "print(\"원본:\", context)\n",
    "\n",
    "generated_sentences = generate_sequence(context, model, tokenizer, device, num_sequences=2)\n",
    "\n",
    "for idx, sentence in enumerate(generated_sentences):\n",
    "    sentence = multiple_replace(sentence, replacements)\n",
    "    print(f\"생성 {idx+1}:\", sentence)\n"
   ]
  }
 ],
 "metadata": {
  "kernelspec": {
   "display_name": "Python 3",
   "language": "python",
   "name": "python3"
  },
  "language_info": {
   "codemirror_mode": {
    "name": "ipython",
    "version": 3
   },
   "file_extension": ".py",
   "mimetype": "text/x-python",
   "name": "python",
   "nbconvert_exporter": "python",
   "pygments_lexer": "ipython3",
   "version": "3.10.12"
  },
  "orig_nbformat": 4
 },
 "nbformat": 4,
 "nbformat_minor": 2
}
